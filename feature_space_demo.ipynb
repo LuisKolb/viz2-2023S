{
  "cells": [
    {
      "attachments": {},
      "cell_type": "markdown",
      "metadata": {
        "colab_type": "text",
        "id": "view-in-github"
      },
      "source": [
        "<a href=\"https://colab.research.google.com/github/LuisKolb/viz2-2023S/blob/main/feature_space_demo.ipynb\" target=\"_parent\"><img src=\"https://colab.research.google.com/assets/colab-badge.svg\" alt=\"Open In Colab\"/></a>"
      ]
    },
    {
      "cell_type": "code",
      "execution_count": 52,
      "metadata": {
        "colab": {
          "base_uri": "https://localhost:8080/",
          "height": 529
        },
        "id": "NYv32LAyQ6aY",
        "outputId": "ddd87d3f-6bc4-4b51-fba6-edd6f6acc10d"
      },
      "outputs": [],
      "source": [
        "import numpy as np\n",
        "import pandas as pd\n",
        "import matplotlib.pyplot as plt\n",
        "from sklearn.datasets import load_iris\n",
        "from sklearn.model_selection import train_test_split\n",
        "from sklearn.neural_network import MLPClassifier\n",
        "from sklearn.datasets import fetch_openml\n",
        "from sklearn.decomposition import PCA"
      ]
    },
    {
      "attachments": {},
      "cell_type": "markdown",
      "metadata": {
        "id": "5Q3ZSyk_TQBC"
      },
      "source": [
        "## IRIS"
      ]
    },
    {
      "cell_type": "code",
      "execution_count": 55,
      "metadata": {},
      "outputs": [
        {
          "name": "stderr",
          "output_type": "stream",
          "text": [
            "/home/luisk/projects/viz2-2023S/venv/lib/python3.8/site-packages/sklearn/neural_network/_multilayer_perceptron.py:686: ConvergenceWarning: Stochastic Optimizer: Maximum iterations (1000) reached and the optimization hasn't converged yet.\n",
            "  warnings.warn(\n"
          ]
        }
      ],
      "source": [
        "# Load the Iris dataset\n",
        "iris = load_iris()\n",
        "\n",
        "# Select the features to use for classification\n",
        "X = iris.data[:, [0, 3]]  # sepal length and petal width\n",
        "y = iris.target\n",
        "\n",
        "# Split the dataset into training and test sets\n",
        "X_train, X_test, y_train, y_test = train_test_split(X, y, test_size=0.2, random_state=42)\n",
        "\n",
        "# Train a neural network classifier with a logistic output layer\n",
        "clf = MLPClassifier(hidden_layer_sizes=(5, ), max_iter=1000, random_state=42, activation='logistic', solver='adam', alpha=0.0001, batch_size='auto', learning_rate='constant', learning_rate_init=0.001, power_t=0.5, momentum=0.9, nesterovs_momentum=True, early_stopping=False, validation_fraction=0.1, beta_1=0.9, beta_2=0.999, epsilon=1e-08, n_iter_no_change=10, tol=0.0001, verbose=False, warm_start=False)\n",
        "clf.fit(X_train, y_train)\n",
        "\n",
        "# Generate a grid of feature combinations\n",
        "sepal_lengths = np.arange(4.0, 8.1, 0.1)\n",
        "petal_widths = np.arange(0.1, 2.6, 0.1)\n",
        "X1, X2 = np.meshgrid(sepal_lengths, petal_widths)\n",
        "X_grid = np.column_stack((X1.ravel(), X2.ravel()))\n",
        "\n",
        "# Predict the class probabilities for each feature combination\n",
        "y_grid_prob = clf.predict_proba(X_grid)\n",
        "\n",
        "for i, class_name in enumerate(iris.target_names):\n",
        "    # save per class: X1 X2 <probability of class for each class> \n",
        "    X1_X2_classprobs = np.column_stack((X_grid, y_grid_prob))\n",
        "    np.savetxt(f\"out/iris/grid_classes_probability.txt\", X1_X2_classprobs)"
      ]
    },
    {
      "cell_type": "code",
      "execution_count": null,
      "metadata": {},
      "outputs": [],
      "source": [
        "# Reshape the predicted probabilities for plotting\n",
        "n_classes = len(iris.target_names)\n",
        "y_grid_prob = y_grid_prob.reshape(X1.shape + (n_classes,))\n",
        "\n",
        "# Plot the contours of the class probabilities and decision boundaries\n",
        "fig, ax = plt.subplots()\n",
        "for i, class_name in enumerate(iris.target_names):\n",
        "    # Plot the contour of the class probability for the current class\n",
        "    ax.contourf(X1, X2, y_grid_prob[:, :, i], alpha=0.5)\n",
        "\n",
        "# Plot the decision boundaries\n",
        "y_pred = clf.predict(X_test)\n",
        "for i, class_name in enumerate(iris.target_names):\n",
        "    # Select the data points of the current class\n",
        "    X_class = X_test[y_pred == i]\n",
        "    # Plot the decision boundary for the current class\n",
        "    ax.scatter(X_class[:, 0], X_class[:, 1], s=10, label=class_name)\n",
        "\n",
        "# Add legend, axis labels and title\n",
        "ax.set_xlabel('Sepal length')\n",
        "ax.set_ylabel('Petal width')\n",
        "ax.set_title('Neural network classification')\n",
        "ax.legend()\n",
        "\n",
        "# Show the plot\n",
        "plt.show()"
      ]
    },
    {
      "attachments": {},
      "cell_type": "markdown",
      "metadata": {
        "id": "ZXrUOY0rTTuW"
      },
      "source": [
        "## CIFAR-10"
      ]
    },
    {
      "cell_type": "code",
      "execution_count": 54,
      "metadata": {
        "colab": {
          "base_uri": "https://localhost:8080/",
          "height": 771
        },
        "id": "T5sBNHZxTVE5",
        "outputId": "a39615b2-088a-4f63-f186-769cff1f1249"
      },
      "outputs": [
        {
          "name": "stderr",
          "output_type": "stream",
          "text": [
            "/home/luisk/projects/viz2-2023S/venv/lib/python3.8/site-packages/sklearn/datasets/_openml.py:968: FutureWarning: The default value of `parser` will change from `'liac-arff'` to `'auto'` in 1.4. You can set `parser='auto'` to silence this warning. Therefore, an `ImportError` will be raised from 1.4 if the dataset is dense and pandas is not installed. Note that the pandas parser may return different data types. See the Notes Section in fetch_openml's API doc for details.\n",
            "  warn(\n"
          ]
        }
      ],
      "source": [
        "# Load the CIFAR-10 dataset\n",
        "X, y = fetch_openml('CIFAR_10_small', version=1, return_X_y=True, as_frame=False)\n",
        "\n",
        "# Convert the pixel values to a float between 0 and 1\n",
        "X = X.astype('float32') / 255.0\n",
        "\n",
        "# Split the dataset into training and test sets\n",
        "X_train, X_test, y_train, y_test = train_test_split(X, y, test_size=0.2, random_state=42)\n",
        "\n",
        "# Use PCA to reduce the dimensionality of the input\n",
        "pca = PCA(n_components=2)\n",
        "X_train_pca = pca.fit_transform(X_train)\n",
        "X_test_pca = pca.transform(X_test)\n",
        "\n",
        "# Train a neural network classifier with a softmax output layer\n",
        "clf = MLPClassifier(hidden_layer_sizes=(100,), activation='relu', solver='adam', alpha=0.0001, batch_size='auto',\n",
        "                    learning_rate='constant', learning_rate_init=0.001, max_iter=200, momentum=0.9,\n",
        "                    nesterovs_momentum=True, power_t=0.5, random_state=42, shuffle=True, tol=0.0001,\n",
        "                    validation_fraction=0.1, verbose=False, early_stopping=False, beta_1=0.9, beta_2=0.999,\n",
        "                    epsilon=1e-08, n_iter_no_change=10)\n",
        "\n",
        "clf.fit(X_train_pca, y_train)\n",
        "\n",
        "# Generate a grid of feature combinations\n",
        "pca_1_range = np.linspace(X_train_pca[:, 0].min(), X_train_pca[:, 0].max(), 100)\n",
        "pca_2_range = np.linspace(X_train_pca[:, 1].min(), X_train_pca[:, 1].max(), 100)\n",
        "pca_1_grid, pca_2_grid = np.meshgrid(pca_1_range, pca_2_range)\n",
        "pca_grid = np.stack([pca_1_grid.ravel(), pca_2_grid.ravel()], axis=-1)\n",
        "np.savetxt(\"out/cifar-pca/grid_1d.txt\", pca_grid.ravel())\n",
        "\n",
        "# Predict the class probabilities for each feature combination\n",
        "y_grid_prob = clf.predict_proba(pca_grid)\n",
        "\n",
        "# Reshape the predicted probabilities for plotting\n",
        "n_classes = len(np.unique(y_train))\n",
        "y_grid_prob = y_grid_prob.reshape(pca_1_grid.shape + (n_classes,))\n",
        "\n",
        "for i in range(y_grid_prob.shape[2]):\n",
        "  subArray = y_grid_prob[:, :, i].ravel()\n",
        "  filename = f\"out/cifar-pca/sub_grid_prob_{i}.txt\"\n",
        "  np.savetxt(filename, subArray)"
      ]
    },
    {
      "cell_type": "code",
      "execution_count": null,
      "metadata": {},
      "outputs": [],
      "source": [
        "# Plot the contours of the class probabilities and decision boundaries\n",
        "fig, ax = plt.subplots(figsize=(8, 8))\n",
        "for i, class_name in enumerate(np.unique(y_train)):\n",
        "    # Plot the contour of the class probability for the current class\n",
        "    ax.contourf(pca_1_grid, pca_2_grid, y_grid_prob[:, :, i], alpha=0.5)\n",
        "\n",
        "# Plot the decision boundaries\n",
        "y_pred = clf.predict(X_test_pca)\n",
        "for i, class_name in enumerate(np.unique(y_train)):\n",
        "    # Select the data points of the current class\n",
        "    X_class = X_test_pca[y_pred == class_name]\n",
        "    # Plot the decision boundary for the current class\n",
        "    ax.scatter(X_class[:, 0], X_class[:, 1], s=10, label=class_name)\n",
        "\n",
        "# Add legend, axis labels and title\n",
        "ax.set_xlabel('Principal component 1')\n",
        "ax.set_ylabel('Principal component 2')\n",
        "ax.set"
      ]
    },
    {
      "cell_type": "code",
      "execution_count": null,
      "metadata": {},
      "outputs": [],
      "source": []
    }
  ],
  "metadata": {
    "colab": {
      "authorship_tag": "ABX9TyP3U/OTdgiMPVwk2Of2RKTB",
      "include_colab_link": true,
      "provenance": []
    },
    "kernelspec": {
      "display_name": "Python 3",
      "name": "python3"
    },
    "language_info": {
      "codemirror_mode": {
        "name": "ipython",
        "version": 3
      },
      "file_extension": ".py",
      "mimetype": "text/x-python",
      "name": "python",
      "nbconvert_exporter": "python",
      "pygments_lexer": "ipython3",
      "version": "3.8.10"
    }
  },
  "nbformat": 4,
  "nbformat_minor": 0
}
